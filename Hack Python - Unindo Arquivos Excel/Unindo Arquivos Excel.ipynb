{
 "cells": [
  {
   "cell_type": "markdown",
   "metadata": {},
   "source": [
    "# Unindo Arquivos Excel usando Python\n",
    "\n",
    "Neste tutorial iremos criar um código para unir 5 planilhas em Excel em apenas 1 arquivo. Deve ser considerado que todos os arquivos tenham o mesmo padrão de coluna."
   ]
  },
  {
   "cell_type": "markdown",
   "metadata": {},
   "source": [
    "### Importando as bibliotecas que serão utilizadas\n",
    "\n",
    "* A biblioteca os é uma bibliotyeca de comandos do sistema operacional, que nos auxilia na realização de operações dentro do computador.\n",
    "* A biblioteca pandas permite a manipulação de arquivo Excel."
   ]
  },
  {
   "cell_type": "code",
   "execution_count": 52,
   "metadata": {},
   "outputs": [],
   "source": [
    "import os\n",
    "import pandas as pd"
   ]
  },
  {
   "cell_type": "markdown",
   "metadata": {},
   "source": [
    "* Imprimindo caminho atual"
   ]
  },
  {
   "cell_type": "code",
   "execution_count": 53,
   "metadata": {},
   "outputs": [
    {
     "name": "stdout",
     "output_type": "stream",
     "text": [
      "C:\\Python_Hacks\n"
     ]
    }
   ],
   "source": [
    "caminho = os.getcwd()\n",
    "print(caminho)"
   ]
  },
  {
   "cell_type": "markdown",
   "metadata": {},
   "source": [
    "* Listando os arquivos presentes na pasta 'arquivos_excel', que se encontra no diretório atual"
   ]
  },
  {
   "cell_type": "code",
   "execution_count": 54,
   "metadata": {},
   "outputs": [
    {
     "data": {
      "text/plain": [
       "['resultado_vendas_2017.xlsx',\n",
       " 'resultado_vendas_2018.xlsx',\n",
       " 'resultado_vendas_2019.xlsx',\n",
       " 'resultado_vendas_2020.xlsx',\n",
       " 'resultado_vendas_2021.xlsx']"
      ]
     },
     "execution_count": 54,
     "metadata": {},
     "output_type": "execute_result"
    }
   ],
   "source": [
    "pasta_arquivos = 'arquivos_excel'\n",
    "os.listdir(pasta_arquivos)"
   ]
  },
  {
   "cell_type": "markdown",
   "metadata": {},
   "source": [
    "* Função que responsável pela combinação dos dados dos arquivos em uma lista, serão considerados todos os arquivos em Excel da pasta"
   ]
  },
  {
   "cell_type": "code",
   "execution_count": 55,
   "metadata": {},
   "outputs": [
    {
     "name": "stdout",
     "output_type": "stream",
     "text": [
      "Carregando arquivo resultado_vendas_2017.xlsx...\n",
      "Carregando arquivo resultado_vendas_2018.xlsx...\n",
      "Carregando arquivo resultado_vendas_2019.xlsx...\n",
      "Carregando arquivo resultado_vendas_2020.xlsx...\n",
      "Carregando arquivo resultado_vendas_2021.xlsx...\n"
     ]
    }
   ],
   "source": [
    "df = []\n",
    "for arquivo in os.listdir(pasta_arquivos):\n",
    "    if arquivo.endswith('.xlsx'):\n",
    "        print('Carregando arquivo {}...'.format(arquivo))\n",
    "        df.append(pd.read_excel(os.path.join(pasta_arquivos, arquivo)))"
   ]
  },
  {
   "cell_type": "markdown",
   "metadata": {},
   "source": [
    "* Criando um novo dataframe onde iremos concatenar o dados do arquivo, considerando 'axis=0', ou seja, em coluna um abaixo do outro, caso tenha interesse mude 'axis=1' e compare o resultado.\n",
    "\n",
    "* Transformando o dataframe em uma novo arquivo Excel, omitindo a coluna de índice"
   ]
  },
  {
   "cell_type": "code",
   "execution_count": 56,
   "metadata": {},
   "outputs": [],
   "source": [
    "df_principal = pd.concat(df, axis=0)\n",
    "df_principal.to_excel('arquivo_principal.xlsx', index=False)"
   ]
  }
 ],
 "metadata": {
  "kernelspec": {
   "display_name": "Python 3",
   "language": "python",
   "name": "python3"
  },
  "language_info": {
   "codemirror_mode": {
    "name": "ipython",
    "version": 3
   },
   "file_extension": ".py",
   "mimetype": "text/x-python",
   "name": "python",
   "nbconvert_exporter": "python",
   "pygments_lexer": "ipython3",
   "version": "3.8.5"
  }
 },
 "nbformat": 4,
 "nbformat_minor": 4
}
